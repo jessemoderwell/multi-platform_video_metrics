{
 "cells": [
  {
   "cell_type": "code",
   "execution_count": 6,
   "metadata": {
    "scrolled": false
   },
   "outputs": [
    {
     "name": "stdout",
     "output_type": "stream",
     "text": [
      "here\n",
      "<generator object GraphAPI.get_all_connections at 0x7ffa0020dd60>\n",
      "[{'id': '352728366115496', 'created_time': '2020-08-21T13:59:47+0000'}, {'id': '1234138873601756', 'title': 'ReThink: What is Eternal Life?', 'description': '4 Common Misconceptions about Eternal Life', 'created_time': '2020-08-16T12:45:22+0000'}, {'id': '683163315876752', 'created_time': '2020-08-14T13:53:42+0000'}, {'id': '875196306340063', 'title': 'ReThink: Who is the Holy Spirit?', 'description': 'The sermon will be focused on the relational aspect of knowing the Spirit, walking with the Spirit, being filled, and partnering missionally with the third member of the Trinity.', 'created_time': '2020-08-09T12:45:15+0000'}, {'id': '3300673073313007', 'title': 'ReThingk: What is the Church?', 'created_time': '2020-08-02T12:47:46+0000'}, {'id': '981518438942902', 'created_time': '2020-07-31T13:51:06+0000'}, {'id': '671758730088154', 'description': 'Worship Night in the parking lot behind the church!!', 'created_time': '2020-07-26T22:43:56+0000'}, {'id': '727425118036996', 'title': 'Friday Morning worship with the Moderwells', 'description': 'We miss being with all of you and hope you can take moment to spend time in prayer and worship with us. -Luke + Anna', 'created_time': '2020-07-24T14:12:36+0000'}, {'id': '706194283561399', 'created_time': '2020-07-17T12:54:36+0000'}, {'id': '637915950149800', 'created_time': '2020-07-10T13:59:09+0000'}, {'id': '3204932256232196', 'description': 'Hey Welcome in to Worship!!', 'created_time': '2020-07-05T13:58:07+0000'}, {'id': '202320561018612', 'created_time': '2020-06-26T13:54:20+0000'}, {'id': '678702089384207', 'description': 'Ed Wilson Memorial Service', 'created_time': '2020-06-13T21:22:57+0000'}, {'id': '205900157161779', 'created_time': '2020-06-12T13:58:26+0000'}, {'id': '703911433718602', 'created_time': '2020-06-05T13:35:57+0000'}, {'id': '267919257901866', 'description': 'Pentecost Worship Service', 'created_time': '2020-05-31T19:48:20+0000'}, {'id': '686566985254786', 'description': 'Hey Y’all I went up to check out our spot for tonight, because my google maps wasn’t doing a very good job of finding Rookwood Restaurant, so here is an address you can use.\\n\\n1077 Celestial St\\nCincinnati, OH  45202\\nUnited States\\n\\nSee you tonight at 6:30', 'created_time': '2020-05-29T16:40:24+0000'}, {'id': '943759979377679', 'created_time': '2020-05-29T13:58:55+0000'}, {'id': '3080505118697419', 'description': 'Welcome to Wednesday Worship', 'created_time': '2020-05-28T14:47:12+0000'}, {'id': '273774700482828', 'description': 'Welcome to Wednesday Worship Y’all', 'created_time': '2020-05-27T20:03:30+0000'}, {'id': '268218684379972', 'created_time': '2020-05-22T13:56:16+0000'}, {'id': '3188845747826556', 'created_time': '2020-05-20T18:07:40+0000'}, {'id': '2493855157610884', 'title': 'Friday Worship - Raz', 'description': 'Come with me to the throne where we will worship Papa together', 'created_time': '2020-05-15T21:36:54+0000'}, {'id': '675805376299141', 'created_time': '2020-05-08T13:57:45+0000'}, {'id': '1399299773592445', 'description': 'Wednesday Afternoon Live Worship 5/6/20', 'created_time': '2020-05-06T20:29:09+0000'}, {'id': '681069542724418', 'created_time': '2020-05-01T13:49:00+0000'}, {'id': '1123924654636756', 'created_time': '2020-05-01T13:47:41+0000'}, {'id': '300053644324110', 'created_time': '2020-04-29T20:03:43+0000'}, {'id': '1662267633897358', 'created_time': '2020-04-24T13:51:04+0000'}, {'id': '551768325325029', 'created_time': '2020-04-22T20:22:48+0000'}, {'id': '252067662823054', 'created_time': '2020-04-17T13:53:53+0000'}, {'id': '282673039391617', 'created_time': '2020-04-15T20:23:45+0000'}, {'id': '2864257007028149', 'created_time': '2020-04-12T20:21:11+0000'}, {'id': '222608848829982', 'created_time': '2020-04-12T19:36:14+0000'}, {'id': '3010009472417076', 'created_time': '2020-04-12T19:25:08+0000'}, {'id': '1062186500834937', 'created_time': '2020-04-12T18:48:28+0000'}, {'id': '537364903862179', 'created_time': '2020-04-12T18:10:42+0000'}, {'id': '3051491248249564', 'created_time': '2020-04-10T12:52:27+0000'}, {'id': '928413264261574', 'created_time': '2020-04-08T20:14:01+0000'}, {'id': '2854675921315158', 'created_time': '2020-04-07T19:00:13+0000'}, {'id': '278330019829717', 'description': 'Hey All, Thanks for joining me in worship this morning. Papa is so good!', 'created_time': '2020-04-03T14:00:42+0000'}, {'id': '892109337876357', 'created_time': '2020-04-03T12:51:29+0000'}, {'id': '206759037406904', 'created_time': '2020-04-01T20:29:02+0000'}, {'id': '532100557743032', 'created_time': '2020-03-27T12:57:24+0000'}, {'id': '1321621131368083', 'created_time': '2020-03-25T20:29:00+0000'}, {'id': '206416820683385', 'created_time': '2020-03-24T16:51:44+0000'}, {'id': '199005968207991', 'created_time': '2020-03-20T12:57:38+0000'}, {'id': '526408258276167', 'created_time': '2020-03-18T19:43:49+0000'}, {'id': '858830080936588', 'description': \"Hey everyone, as part of our journey of racial reconciliation in the Body of Christ, we are supporting the Race to Unity Rally on July 28 (7-9 PM) and July 29 (9:30 AM-1PM, lunch provided) at People's Church. Address is 220 Wm. Howard Taft. Great speakers, will build your understanding and conviction. RSVP unity@racetounity.com. This is all leading to the 2018 Conference September 14-15. See video from Louis Arnold and me. Please pray!\", 'created_time': '2017-07-13T17:12:46+0000'}, {'id': '845602742259322', 'description': \"A few years ago we felt led to move our VBS to the Bright Star summer camp down on the West End. It's blessed us more than we ever imagined. Thank you to the Swann's who have really stood firm on the vision! ❤️\", 'created_time': '2017-06-21T19:55:21+0000'}, {'id': '797408370412093', 'description': 'Something about men praying and worshipping Jesus together!', 'created_time': '2017-03-25T14:17:52+0000'}, {'id': '765614220258175', 'description': \"Beautiful worship as leaders from 6 tribes in north west Nigeria give praise. It's a powerful testimony to Jesus as those that formerly hated one another now love. Keep praying that they would bring the Gospel in love and unity to the more than 3 million people they represent!\", 'created_time': '2017-01-28T05:33:03+0000'}, {'id': '705522209600710', 'description': 'Something special about men united to worship Jesus together! 🎯', 'created_time': '2016-10-15T14:04:27+0000'}, {'id': '690686414417623', 'description': 'A brief word of encouragement from Corinth! We ❤️ you! D&M', 'created_time': '2016-09-17T12:56:43+0000'}, {'id': '614940655325533', 'description': 'Team Worship at the Garden Tomb!!!', 'created_time': '2016-04-11T16:56:53+0000'}, {'id': '612635862222679', 'description': 'Terri reciting her Scripture memory from Matthew 14, on our boat on the Sea of Galilee with the disciples!', 'created_time': '2016-04-06T10:05:43+0000'}, {'id': '612607838892148', 'description': 'Early morning worship on Sea of Galilee - what a great God we have!', 'created_time': '2016-04-06T08:36:18+0000'}, {'id': '611729295646669', 'description': 'Part of our team worship at Beth Shan, in the ancient Roman Theater! Having a wonderful time together with Father Son and Spirit!', 'created_time': '2016-04-04T16:07:35+0000'}, {'id': '611293115690287', 'description': 'Worship in the ancient olive grove at Mount Carmel - celebrating God grafting us into the eternal olive tree as we ask for the fire of God to shape our lives in the way the Spirit shaped Elijah. Keep your prayers coming for our team, we are growing closer every day!', 'created_time': '2016-04-03T15:39:49+0000'}, {'id': '611078889045043', 'description': 'A brief greeting from Tel Aviv. Team doing well! Keep praying!', 'created_time': '2016-04-03T03:34:40+0000'}, {'id': '555332644619668', 'description': 'Closing worship! So cool to have men busting it out for the Lord -- nice and low!', 'created_time': '2015-11-21T20:11:19+0000'}, {'id': '495484040604529', 'description': 'Bright Star VBS treat - the history of Jazz - from the Cincinnati Modern Jazz Quartet!', 'created_time': '2015-06-26T14:44:48+0000'}, {'id': '412064275613173', 'description': 'Preschoolers Christmas concert! Jesus loves us!', 'created_time': '2014-12-19T15:43:34+0000'}, {'id': '409892929163641', 'description': 'The children blessed us this morning with a rendition of Silent Night. Pretty cute!', 'created_time': '2014-12-14T15:16:39+0000'}, {'id': '406392339513700', 'description': \"Raz and lovers of Jesus rockin for Emanuel! Tomorrow night's worship celebrations at 645 and 720 in the Chapel!\", 'created_time': '2014-12-06T01:15:20+0000'}, {'id': '300466240106311', 'description': 'Denis shares a Sunday morning update from Jerusalem!', 'created_time': '2014-03-30T10:26:49+0000'}, {'id': '299635913522677', 'description': 'Arrived safely in Jerusalem!', 'created_time': '2014-03-27T16:51:20+0000'}, {'id': '299634600189475', 'description': 'Quick update from Galilee!', 'created_time': '2014-03-27T16:48:07+0000'}, {'id': '299001273586141', 'description': 'Greetings from Tel Dan Israel!', 'created_time': '2014-03-25T15:59:46+0000'}, {'id': '298100457009556', 'description': 'Denis Beausejour gives a brief tour update from Tel Aviv!', 'created_time': '2014-03-23T04:18:30+0000'}, {'id': '297365417083060', 'description': 'Motivational parenting!', 'created_time': '2014-03-20T21:07:05+0000'}]\n"
     ]
    }
   ],
   "source": [
    "import json\n",
    "import facebook\n",
    "import requests\n",
    "import pandas as pd\n",
    "import sqlite3\n",
    "from config.config import SQL_SCHEMA, FACEBOOK_ACCESS_TOKEN, FACEBOOK_PAGE_ID\n",
    "\n",
    "video_id = ''\n",
    "video_list = []\n",
    "video_insights_list = []\n",
    "graph = facebook.GraphAPI(FACEBOOK_ACCESS_TOKEN)\n",
    "print('here')\n",
    "videos = graph.get_all_connections(id=FACEBOOK_PAGE_ID, connection_name='videos', fields='id, title, description, created_time')\n",
    "print(videos)\n",
    "for video in videos:\n",
    "    video_list.append(video)\n",
    "print(video_list)    "
   ]
  },
  {
   "cell_type": "code",
   "execution_count": 2,
   "metadata": {},
   "outputs": [],
   "source": [
    "for video in video_list:\n",
    "        video_insights = graph.get_connections(id=video['id'],\n",
    "                                               connection_name='video_insights',\n",
    "                                               metric='total_video_views, total_video_stories_by_action_type',\n",
    "                                               fields='values, id')\n",
    "        video_insights_list.append(video_insights)"
   ]
  },
  {
   "cell_type": "code",
   "execution_count": 3,
   "metadata": {},
   "outputs": [],
   "source": [
    "facebook_video_list = []\n",
    "for video in zip(video_list, video_insights_list):\n",
    "    facebook_video_list.append(video)"
   ]
  },
  {
   "cell_type": "code",
   "execution_count": 4,
   "metadata": {},
   "outputs": [],
   "source": [
    "facebook_df = pd.DataFrame(index=range(len(video_list)), columns=SQL_SCHEMA)\n",
    "for c in range(len(facebook_video_list)):\n",
    "    facebook_df['id'][c] = facebook_video_list[c][0]['id']\n",
    "    try:\n",
    "        facebook_df['title'][c] = facebook_video_list[c][0]['title']\n",
    "    except:\n",
    "        pass\n",
    "    try:\n",
    "        facebook_df['description'][c] = facebook_video_list[c][0]['description']\n",
    "    except:\n",
    "        pass\n",
    "    facebook_df['date_published'][c] = facebook_video_list[c][0]['created_time']\n",
    "    try:\n",
    "        facebook_df['views'][c] = facebook_video_list[c][1]['data'][0]['values'][0]['value']\n",
    "    except:\n",
    "        pass\n",
    "    try:\n",
    "        facebook_df['likes'][c] = facebook_video_list[c][1]['data'][1]['values'][0]['value']['like']\n",
    "    except:\n",
    "        pass\n",
    "    try:\n",
    "        facebook_df['comments'][c] = facebook_video_list[c][1]['data'][1]['values'][0]['value']['comment']\n",
    "    except:\n",
    "        pass\n",
    "    facebook_df['medium'][c] = 'facebook'"
   ]
  },
  {
   "cell_type": "code",
   "execution_count": 5,
   "metadata": {},
   "outputs": [
    {
     "name": "stdout",
     "output_type": "stream",
     "text": [
      "297             id                                        title  \\\n",
      "0  IAmG1eCH0fg               ReThink: What is Eternal Life?   \n",
      "1  c6vAXVTRvnA             ReThink: Who is the Holy Spirit?   \n",
      "2  uCzLJtz7Wuo                 ReThink: What is the Church?   \n",
      "3  wquf54O3JHQ  ReThink: What is the Gospel of the Kingdom?   \n",
      "4  rV9_xho4PJs              ReThink: How Do I Follow Jesus?   \n",
      "\n",
      "                                         description        date_published  \\\n",
      "0         4 Common Misconceptions about Eternal Life  2020-08-17T02:15:08Z   \n",
      "1  The sermon will be focused on the relational a...  2020-08-10T02:18:24Z   \n",
      "2                                                     2020-08-02T15:34:32Z   \n",
      "3                                                     2020-07-27T01:57:16Z   \n",
      "4                                                     2020-07-19T15:16:01Z   \n",
      "\n",
      "   views  likes  comments   medium  \n",
      "0  128.0    2.0       0.0  youtube  \n",
      "1  147.0    2.0       0.0  youtube  \n",
      "2  113.0    4.0       1.0  youtube  \n",
      "3  210.0    4.0       1.0  youtube  \n",
      "4  130.0    4.0       1.0  youtube  \n",
      "sqlite database appended\n"
     ]
    }
   ],
   "source": [
    "conn = sqlite3.connect('analytics.db')\n",
    "c = conn.cursor()\n",
    "c.execute(\"\"\"DELETE FROM media_stats\n",
    "    WHERE medium='facebook'\"\"\")\n",
    "# test\n",
    "facebook_df.to_csv('try.csv', index=False)\n",
    "facebook_df.to_sql('media_stats', con=conn, if_exists='append', index=False)\n",
    "test_df = pd.read_sql('SELECT * FROM media_stats', conn)\n",
    "print(len(test_df), test_df.head())\n",
    "print('sqlite database appended')"
   ]
  },
  {
   "cell_type": "code",
   "execution_count": null,
   "metadata": {},
   "outputs": [],
   "source": []
  }
 ],
 "metadata": {
  "kernelspec": {
   "display_name": "Python 3",
   "language": "python",
   "name": "python3"
  },
  "language_info": {
   "codemirror_mode": {
    "name": "ipython",
    "version": 3
   },
   "file_extension": ".py",
   "mimetype": "text/x-python",
   "name": "python",
   "nbconvert_exporter": "python",
   "pygments_lexer": "ipython3",
   "version": "3.8.3"
  }
 },
 "nbformat": 4,
 "nbformat_minor": 4
}
